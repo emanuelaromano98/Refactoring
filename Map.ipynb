{
 "cells": [
  {
   "cell_type": "code",
   "execution_count": null,
   "id": "f78861c6-e784-4bf8-b884-473a9f6cd2de",
   "metadata": {},
   "outputs": [],
   "source": [
    "from function import *"
   ]
  },
  {
   "cell_type": "code",
   "execution_count": null,
   "id": "e0652b21",
   "metadata": {},
   "outputs": [],
   "source": [
    "df = load_data_with_column_order('df_migros.csv', ['city', 'population', 'coordinates', 'migros_count'])"
   ]
  },
  {
   "cell_type": "code",
   "execution_count": null,
   "id": "508c7101",
   "metadata": {},
   "outputs": [],
   "source": [
    "df = format_df(df)"
   ]
  },
  {
   "cell_type": "code",
   "execution_count": null,
   "id": "0d77d318",
   "metadata": {},
   "outputs": [],
   "source": [
    "create_plot(df)"
   ]
  }
 ],
 "metadata": {
  "kernelspec": {
   "display_name": "viz",
   "language": "python",
   "name": "python3"
  },
  "language_info": {
   "codemirror_mode": {
    "name": "ipython",
    "version": 3
   },
   "file_extension": ".py",
   "mimetype": "text/x-python",
   "name": "python",
   "nbconvert_exporter": "python",
   "pygments_lexer": "ipython3",
   "version": "3.12.2"
  }
 },
 "nbformat": 4,
 "nbformat_minor": 5
}
